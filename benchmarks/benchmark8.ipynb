{
 "cells": [
  {
   "cell_type": "code",
   "execution_count": 1,
   "metadata": {},
   "outputs": [
    {
     "data": {
      "application/javascript": [
       "    MathJax.Hub.Config({\n",
       "      TeX: { equationNumbers: { autoNumber: \"AMS\" } }\n",
       "    });"
      ],
      "text/plain": [
       "<IPython.core.display.Javascript object>"
      ]
     },
     "metadata": {},
     "output_type": "display_data"
    }
   ],
   "source": [
    "%%javascript\n",
    "    MathJax.Hub.Config({\n",
    "      TeX: { equationNumbers: { autoNumber: \"AMS\" } }\n",
    "    });"
   ]
  },
  {
   "cell_type": "code",
   "execution_count": 2,
   "metadata": {},
   "outputs": [
    {
     "data": {
      "text/html": [
       "<script>\n",
       "code_show=true; \n",
       "function code_toggle() {\n",
       " if (code_show){\n",
       " $('div.input').hide();\n",
       " $('div.prompt').hide();\n",
       " } else {\n",
       " $('div.input').show();\n",
       "$('div.prompt').show();\n",
       " }\n",
       " code_show = !code_show\n",
       "} \n",
       "$( document ).ready(code_toggle);\n",
       "</script>\n",
       "<form action=\"javascript:code_toggle()\"><input type=\"submit\" value=\"Code Toggle\"></form>"
      ],
      "text/plain": [
       "<IPython.core.display.HTML object>"
      ]
     },
     "execution_count": 2,
     "metadata": {},
     "output_type": "execute_result"
    }
   ],
   "source": [
    "from IPython.display import HTML\n",
    "\n",
    "HTML('''<script>\n",
    "code_show=true; \n",
    "function code_toggle() {\n",
    " if (code_show){\n",
    " $('div.input').hide();\n",
    " $('div.prompt').hide();\n",
    " } else {\n",
    " $('div.input').show();\n",
    "$('div.prompt').show();\n",
    " }\n",
    " code_show = !code_show\n",
    "} \n",
    "$( document ).ready(code_toggle);\n",
    "</script>\n",
    "<form action=\"javascript:code_toggle()\"><input type=\"submit\" value=\"Code Toggle\"></form>''')"
   ]
  },
  {
   "cell_type": "code",
   "execution_count": 1,
   "metadata": {},
   "outputs": [],
   "source": [
    "# Disable until merge\n",
    "#from IPython.display import HTML\n",
    "#\n",
    "#HTML('''\n",
    "#<a href=\"https://github.com/usnistgov/pfhub/raw/master/benchmarks/benchmark8.ipynb\"\n",
    "#   download>\n",
    "#<button type=\"submit\">Download Notebook</button>\n",
    "#</a>\n",
    "#''')"
   ]
  },
  {
   "cell_type": "markdown",
   "metadata": {},
   "source": [
    "# Benchmark Problem 8: Nucleation"
   ]
  },
  {
   "cell_type": "code",
   "execution_count": 1,
   "metadata": {},
   "outputs": [
    {
     "data": {
      "text/html": [
       "{% include jupyter_benchmark_table.html num=\"[8]\" revision=0 %}"
      ],
      "text/plain": [
       "<IPython.core.display.HTML object>"
      ]
     },
     "execution_count": 1,
     "metadata": {},
     "output_type": "execute_result"
    }
   ],
   "source": [
    "from IPython.display import HTML\n",
    "\n",
    "HTML('''{% include jupyter_benchmark_table.html num=\"[8]\" revision=0 %}''')"
   ]
  },
  {
   "cell_type": "markdown",
   "metadata": {
    "ExecuteTime": {
     "end_time": "2019-10-28T18:42:26.097304Z",
     "start_time": "2019-10-28T18:42:26.083174Z"
    }
   },
   "source": [
    "## Submission Guidelines\n",
    "\n",
    "Please use the [upload form]({{ site.baseurl }}/simulations/upload_form/) to upload your results.\n",
    "\n",
    "In addition to that specified, further data to upload can include a Youtube video, images of the nuclei at different times, or the entire phase field variable at different times. These are not required, but will help others view your work.\n",
    "\n",
    "### Part (a)\n",
    "\n",
    "Run three cases with starting seeds with $r_0 = r^*$, $r_0 = 0.99 r^*$, and $r_0 = 1.01 r^*$. Follow the time evolution of the system for $t = 100$ units. The following data should be collected for upload as frequently as possible.\n",
    "\n",
    " - The solid fraction in the domain (the integral $\\int_V \\phi dV / \\int_V dV$)\n",
    " \n",
    " - The free energy, $\\mathcal{F}$\n",
    " \n",
    "Two uploads are required for each data combination of time versus quantity. These should be named as `solid_fraction` and `free_energy`, and stored in either CSV or JSON format. The results can be stored in two separate files or one single file as long as each column name for time and quantity is identified on the upload form.\n",
    "\n",
    "Further data to upload can include a Youtube video, images of the nucleus at different times or the entire phase field variable at different times. These are not required, but will help others view your work.\n",
    "\n",
    "### Part (b)\n",
    "\n",
    "Follow the time evolution of the system for $t = 400$ units. The following data should be collected for upload as frequently as possible.\n",
    "\n",
    " - The solid fraction in the domain (the integral $\\int_V \\phi dV / \\int_V dV$)\n",
    " \n",
    " - The free energy, $\\mathcal{F}$\n",
    " \n",
    "Two uploads are required for each data combination of time versus quantity. These should be named as `solid_fraction` and `free_energy`, and stored in either CSV or JSON format. The results can be stored in two separate files or one single file as long as each column name for time and quantity is identified on the upload form. In addition, the phase field snapshot at time $t=80$ is required. The data should be named as `image` and stored in `PNG` or `TIFF` format.\n",
    "\n",
    "### Part (c)\n",
    "\n",
    "Follow the time evolution of the system for $t = 600$ units. The following data should be collected for upload as frequently as possible.\n",
    "\n",
    " - The solid fraction in the domain (the integral $\\int_V \\phi dV / \\int_V dV$)\n",
    " \n",
    " - The free energy, $\\mathcal{F}$\n",
    " \n",
    "Two uploads are required for each data combination of time versus quantity. These should be named as `solid_fraction` and `free_energy`, and stored in either CSV or JSON format. The results can be stored in two separate files or one single file as long as each column name for time and quantity is identified on the upload form. In addition, the phase field snapshot at time $t=100$ is required. The data should be named as `image` and stored in `PNG` or `TIFF` format.\n",
    "\n",
    "### Part (d)\n",
    "\n",
    "Run three cases with undercooling $\\Delta f_0 = \\Delta f_0^*$, $\\Delta f_0 = 0.98 \\Delta f_0^*$, and $\\Delta f_0 = 1.02 \\Delta f_0^*$. Follow the time evolution of the system for $t = 5000$ units. The following data should be collected for upload as frequently as possible.\n",
    "\n",
    " - The solid fraction in the domain (the integral $\\int_V \\phi dV / \\int_V dV$)\n",
    " \n",
    "One upload is required for each data combination of time versus quantity. This should be named as `solid_fraction` and stored in either CSV or JSON format. In addition, the phase field snapshot at time $t=5000$ is required. The data should be named as `image` and stored in `PNG` or `TIFF` format.\n",
    "\n",
    "## Results\n",
    "\n",
    "Results from this benchmark problem are displayed on the [simulation result page]({{ site.baseurl }}/simulations) for different codes."
   ]
  },
  {
   "cell_type": "markdown",
   "metadata": {},
   "source": [
    "# Under construction"
   ]
  }
 ],
 "metadata": {
  "anaconda-cloud": {},
  "kernelspec": {
   "display_name": "Python 2",
   "language": "python",
   "name": "python2"
  },
  "language_info": {
   "codemirror_mode": {
    "name": "ipython",
    "version": 2
   },
   "file_extension": ".py",
   "mimetype": "text/x-python",
   "name": "python",
   "nbconvert_exporter": "python",
   "pygments_lexer": "ipython2",
   "version": "2.7.15"
  },
  "toc": {
   "base_numbering": 1,
   "nav_menu": {},
   "number_sections": true,
   "sideBar": true,
   "skip_h1_title": false,
   "title_cell": "Table of Contents",
   "title_sidebar": "Contents",
   "toc_cell": false,
   "toc_position": {},
   "toc_section_display": true,
   "toc_window_display": false
  }
 },
 "nbformat": 4,
 "nbformat_minor": 2
}
